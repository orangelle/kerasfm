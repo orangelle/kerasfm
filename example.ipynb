{
 "cells": [
  {
   "cell_type": "code",
   "execution_count": 1,
   "metadata": {},
   "outputs": [],
   "source": [
    "import numpy as np\n",
    "import tensorflow as tf\n",
    "import time\n",
    "from tqdm import tqdm"
   ]
  },
  {
   "cell_type": "markdown",
   "metadata": {},
   "source": [
    "# Load data"
   ]
  },
  {
   "cell_type": "code",
   "execution_count": 2,
   "metadata": {},
   "outputs": [
    {
     "name": "stdout",
     "output_type": "stream",
     "text": [
      "Dataset shape: (13454, 784)\n",
      "Non-zeros rate: 0.04037\n",
      "Classes balance: 0.469 / 0.531\n"
     ]
    }
   ],
   "source": [
    "from sklearn.datasets import fetch_mldata\n",
    "from sklearn.preprocessing import scale\n",
    "from sklearn.model_selection import train_test_split\n",
    "from sklearn.metrics import roc_auc_score, accuracy_score\n",
    "\n",
    "mnist = tf.keras.datasets.mnist\n",
    "\n",
    "(X_tr, y_tr), (X_te, y_te) = mnist.load_data()\n",
    "mnist_images = np.vstack([\n",
    "    X_tr.reshape((-1, 28 * 28)),\n",
    "    X_te.reshape((-1, 28 * 28))\n",
    "])\n",
    "mnist_labels = np.hstack([y_tr, y_te])\n",
    "\n",
    "n_three, n_five = sum(mnist_labels==3), sum(mnist_labels==5)\n",
    "\n",
    "X_all = np.vstack([\n",
    "    mnist_images[mnist_labels==3,:],\n",
    "    mnist_images[mnist_labels==5,:]\n",
    "])\n",
    "\n",
    "y_all = np.array([1]*n_three + [0]*n_five)\n",
    "# make it more sparse\n",
    "X_all = X_all * (np.random.uniform(0, 1, X_all.shape) > 0.8)\n",
    "\n",
    "print('Dataset shape: {}'.format(X_all.shape))\n",
    "print('Non-zeros rate: {:.05f}'.format(np.mean(X_all != 0)))\n",
    "print('Classes balance: {:.03f} / {:.03f}'.format(np.mean(y_all==0), np.mean(y_all==1)))\n",
    "\n",
    "X_tr, X_te, y_tr, y_te = train_test_split(X_all, y_all, random_state=42, test_size=0.3)"
   ]
  },
  {
   "cell_type": "markdown",
   "metadata": {
    "collapsed": true
   },
   "source": [
    "# Baselines"
   ]
  },
  {
   "cell_type": "code",
   "execution_count": 3,
   "metadata": {},
   "outputs": [
    {
     "name": "stdout",
     "output_type": "stream",
     "text": [
      "model: LogisticRegression(C=1.0, class_weight=None, dual=False, fit_intercept=True,\n",
      "                   intercept_scaling=1, l1_ratio=None, max_iter=100,\n",
      "                   multi_class='warn', n_jobs=None, penalty='l2',\n",
      "                   random_state=None, solver='liblinear', tol=0.0001, verbose=0,\n",
      "                   warm_start=False)\n",
      "accuracy: 0.8771364874907109\n",
      "\n",
      "model: RandomForestClassifier(bootstrap=True, class_weight=None, criterion='gini',\n",
      "                       max_depth=None, max_features='auto', max_leaf_nodes=None,\n",
      "                       min_impurity_decrease=0.0, min_impurity_split=None,\n",
      "                       min_samples_leaf=1, min_samples_split=2,\n",
      "                       min_weight_fraction_leaf=0.0, n_estimators=200,\n",
      "                       n_jobs=-1, oob_score=False, random_state=None, verbose=0,\n",
      "                       warm_start=False)\n",
      "accuracy: 0.8900173396086203\n",
      "\n"
     ]
    }
   ],
   "source": [
    "from sklearn.linear_model import LogisticRegression\n",
    "from sklearn.ensemble import RandomForestClassifier\n",
    "for model in [\n",
    "                LogisticRegression(solver='liblinear'), \n",
    "                RandomForestClassifier(n_jobs=-1, n_estimators=200)\n",
    "            ]:\n",
    "    model.fit(X_tr, y_tr)\n",
    "    predictions = model.predict(X_te)\n",
    "    acc = accuracy_score(y_te, predictions)\n",
    "    print('model: {}'.format(model.__str__()))\n",
    "    print('accuracy: {}'.format(acc))\n",
    "    print()"
   ]
  },
  {
   "cell_type": "markdown",
   "metadata": {
    "collapsed": true
   },
   "source": [
    "# Dense example"
   ]
  },
  {
   "cell_type": "code",
   "execution_count": 4,
   "metadata": {},
   "outputs": [
    {
     "name": "stderr",
     "output_type": "stream",
     "text": [
      "100%|███████████████████████████████████████████████████████████████████████████████| 50/50 [00:06<00:00,  7.87epoch/s]\n"
     ]
    },
    {
     "name": "stdout",
     "output_type": "stream",
     "text": [
      "[order=2] accuracy: 0.8835769135496656\n"
     ]
    },
    {
     "name": "stderr",
     "output_type": "stream",
     "text": [
      "100%|███████████████████████████████████████████████████████████████████████████████| 50/50 [00:06<00:00,  8.23epoch/s]\n"
     ]
    },
    {
     "name": "stdout",
     "output_type": "stream",
     "text": [
      "[order=3] accuracy: 0.8937329700272479\n"
     ]
    }
   ],
   "source": [
    "from tffm import TFFMClassifier\n",
    "for order in [2,3]:\n",
    "    model = TFFMClassifier(\n",
    "        order=order, \n",
    "        rank=10, \n",
    "        optimizer=tf.keras.optimizers.Adam(learning_rate=0.00001), \n",
    "        n_epochs=50, \n",
    "        batch_size=1024,\n",
    "        init_std=0.001,\n",
    "        reg=0.01,\n",
    "        input_type='dense',\n",
    "        seed=42,\n",
    "        verbose=1\n",
    "    )\n",
    "    model.fit(X_tr, y_tr, show_progress=True)\n",
    "    predictions = model.predict(X_te)\n",
    "    print('[order={}] accuracy: {}'.format(order, accuracy_score(y_te, predictions)))"
   ]
  },
  {
   "cell_type": "markdown",
   "metadata": {},
   "source": [
    "# Sparse example"
   ]
  },
  {
   "cell_type": "code",
   "execution_count": 5,
   "metadata": {},
   "outputs": [],
   "source": [
    "import scipy.sparse as sp\n",
    "# only CSR format supported\n",
    "X_tr_sparse = sp.csr_matrix(X_tr)\n",
    "X_te_sparse = sp.csr_matrix(X_te)"
   ]
  },
  {
   "cell_type": "code",
   "execution_count": 6,
   "metadata": {},
   "outputs": [
    {
     "name": "stderr",
     "output_type": "stream",
     "text": [
      "100%|███████████████████████████████████████████████████████████████████████████████| 50/50 [00:15<00:00,  3.24epoch/s]\n"
     ]
    },
    {
     "name": "stdout",
     "output_type": "stream",
     "text": [
      "[order=3] accuracy: 0.8848154570225415\n"
     ]
    }
   ],
   "source": [
    "order = 3\n",
    "model = TFFMClassifier(\n",
    "    order=order, \n",
    "    rank=10, \n",
    "    optimizer=tf.keras.optimizers.Adam(learning_rate=0.00001), \n",
    "    n_epochs=50, \n",
    "    batch_size=1024,\n",
    "    init_std=0.001,\n",
    "    reg=0.01,\n",
    "    input_type='sparse',\n",
    "    seed=42\n",
    ")\n",
    "model.fit(X_tr_sparse, y_tr, show_progress=True)\n",
    "predictions = model.predict(X_te_sparse)\n",
    "print('[order={}] accuracy: {}'.format(order, accuracy_score(y_te, predictions)))"
   ]
  },
  {
   "cell_type": "markdown",
   "metadata": {},
   "source": [
    "# Regression example"
   ]
  },
  {
   "cell_type": "code",
   "execution_count": 7,
   "metadata": {},
   "outputs": [
    {
     "name": "stderr",
     "output_type": "stream",
     "text": [
      "100%|███████████████████████████████████████████████████████████████████████████████| 50/50 [00:15<00:00,  3.24epoch/s]\n"
     ]
    },
    {
     "name": "stdout",
     "output_type": "stream",
     "text": [
      "[order=3] accuracy: 0.8845677483279664\n",
      "MSE: 56.05527391304083\n"
     ]
    }
   ],
   "source": [
    "from tffm import TFFMRegressor\n",
    "from sklearn.metrics import mean_squared_error\n",
    "\n",
    "model = TFFMRegressor(\n",
    "    order=order, \n",
    "    rank=10, \n",
    "    optimizer=tf.keras.optimizers.Adam(learning_rate=0.00001), \n",
    "    n_epochs=50, \n",
    "    batch_size=1024,\n",
    "    init_std=0.001,\n",
    "    reg=0.01,\n",
    "    input_type='sparse'\n",
    ")\n",
    "# translate Y from {0,1} to {-10, 10}\n",
    "model.fit(X_tr_sparse, y_tr*20-10, show_progress=True)\n",
    "predictions = model.predict(X_te_sparse)\n",
    "print('[order={}] accuracy: {}'.format(order, accuracy_score(y_te, predictions > 0)))\n",
    "print('MSE: {}'.format(mean_squared_error(y_te*20-10, predictions)))"
   ]
  },
  {
   "cell_type": "markdown",
   "metadata": {
    "collapsed": true
   },
   "source": [
    "# n_features/time complexity"
   ]
  },
  {
   "cell_type": "code",
   "execution_count": 8,
   "metadata": {
    "scrolled": true
   },
   "outputs": [
    {
     "name": "stderr",
     "output_type": "stream",
     "text": [
      "100%|████████████████████████████████████████████████████████████████████████████████████| 9/9 [00:32<00:00,  3.57s/it]\n"
     ]
    }
   ],
   "source": [
    "n_features = X_all.shape[1]\n",
    "used_features = range(100, 1000, 100)\n",
    "n_repeats = 5\n",
    "elapsed_mean = []\n",
    "elapsed_std = []\n",
    "model_title = ''\n",
    "\n",
    "for cur_n_feats in tqdm(used_features):\n",
    "    time_observation = []\n",
    "    for _ in range(n_repeats):\n",
    "        active_features = np.random.choice(range(n_features), size=cur_n_feats)\n",
    "        model = TFFMClassifier(\n",
    "                    order=5, \n",
    "                    rank=50,\n",
    "                    optimizer=tf.keras.optimizers.Adam(learning_rate=0.00001), \n",
    "                    n_epochs=1, \n",
    "                    batch_size=-1,\n",
    "                    init_std=0.01,\n",
    "                    input_type='dense'\n",
    "        )\n",
    "        model_title = model.__str__()\n",
    "        # manually initialize model without calling .fit()\n",
    "        model.core.init_learnable_params(cur_n_feats)\n",
    "        \n",
    "        start_time = time.time()\n",
    "        predictions = model.decision_function(X_all[:, active_features])\n",
    "        end_time = time.time()\n",
    "        time_observation.append(end_time - start_time)\n",
    "    elapsed_mean.append(np.mean(time_observation))\n",
    "    elapsed_std.append(np.std(time_observation))"
   ]
  },
  {
   "cell_type": "code",
   "execution_count": 9,
   "metadata": {},
   "outputs": [
    {
     "name": "stdout",
     "output_type": "stream",
     "text": [
      "Populating the interactive namespace from numpy and matplotlib\n"
     ]
    },
    {
     "data": {
      "image/png": "[encoded data removed]",
      "text/plain": [
       "<Figure size 432x288 with 1 Axes>"
      ]
     },
     "metadata": {
      "needs_background": "light"
     },
     "output_type": "display_data"
    }
   ],
   "source": [
    "%pylab inline\n",
    "errorbar(used_features, elapsed_mean, yerr=elapsed_std)\n",
    "xlim(0, 1000)\n",
    "title(model_title)\n",
    "xlabel('n_features')\n",
    "ylabel('test time')\n",
    "grid()"
   ]
  },
  {
   "cell_type": "markdown",
   "metadata": {},
   "source": [
    "# Logging example"
   ]
  },
  {
   "cell_type": "code",
   "execution_count": 10,
   "metadata": {},
   "outputs": [
    {
     "name": "stdout",
     "output_type": "stream",
     "text": [
      "Initialize logs, use: \n",
      "tensorboard --logdir=D:\\orange\\projects\\kerasfm\\tmp\\logs\n"
     ]
    },
    {
     "name": "stderr",
     "output_type": "stream",
     "text": [
      "100%|███████████████████████████████████████████████████████████████████████████████| 10/10 [00:09<00:00,  1.03epoch/s]\n"
     ]
    },
    {
     "name": "stdout",
     "output_type": "stream",
     "text": [
      "[order=3] accuracy: 0.8766410701015606\n"
     ]
    }
   ],
   "source": [
    "from tffm import TFFMClassifier\n",
    "order = 3\n",
    "model = TFFMClassifier(\n",
    "    order=order, \n",
    "    rank=10, \n",
    "    optimizer= tf.keras.optimizers.Adam(learning_rate=0.0001), \n",
    "    n_epochs=10, \n",
    "    batch_size=-1,\n",
    "    init_std=0.001,\n",
    "    reg=0.001,\n",
    "    input_type='sparse',\n",
    "    log_dir='./tmp/logs',\n",
    "    verbose=1\n",
    ")\n",
    "model.fit(X_tr_sparse, y_tr, show_progress=True)\n",
    "predictions = model.predict(X_te_sparse)\n",
    "print('[order={}] accuracy: {}'.format(order, accuracy_score(y_te, predictions)))"
   ]
  },
  {
   "cell_type": "markdown",
   "metadata": {},
   "source": [
    "# Save/load example"
   ]
  },
  {
   "cell_type": "code",
   "execution_count": 11,
   "metadata": {},
   "outputs": [],
   "source": [
    "model.save_state('./tmp/state.tf')"
   ]
  },
  {
   "cell_type": "code",
   "execution_count": 12,
   "metadata": {},
   "outputs": [
    {
     "name": "stdout",
     "output_type": "stream",
     "text": [
      "[order=3] accuracy: 0.8766410701015606\n"
     ]
    }
   ],
   "source": [
    "model = TFFMClassifier(\n",
    "    order=3, \n",
    "    rank=10, \n",
    "    optimizer=tf.keras.optimizers.Adam(learning_rate=0.0001), \n",
    "    n_epochs=10, \n",
    "    batch_size=-1,\n",
    "    init_std=0.001,\n",
    "    reg=0.001,\n",
    "    input_type='sparse',\n",
    "    #log_dir='./tmp/logs',\n",
    "    verbose=1\n",
    ")\n",
    "\n",
    "# internally model need to allocate memory before load previous weights,\n",
    "# so need to set num_features explicitly\n",
    "#model.core.init_learnable_params(X_tr.shape[1])\n",
    "model.load_state('./tmp/state.tf')\n",
    "predictions = model.predict(X_te_sparse)\n",
    "print('[order={}] accuracy: {}'.format(order, accuracy_score(y_te, predictions)))"
   ]
  },
  {
   "cell_type": "code",
   "execution_count": 13,
   "metadata": {},
   "outputs": [
    {
     "name": "stderr",
     "output_type": "stream",
     "text": [
      "100%|███████████████████████████████████████████████████████████████████████████████| 10/10 [00:04<00:00,  2.50epoch/s]\n"
     ]
    },
    {
     "name": "stdout",
     "output_type": "stream",
     "text": [
      "[order=3] accuracy: 0.8820906613822145\n"
     ]
    }
   ],
   "source": [
    "model.fit(X_tr_sparse, y_tr, show_progress=True)\n",
    "predictions = model.predict(X_te_sparse)\n",
    "print('[order={}] accuracy: {}'.format(order, accuracy_score(y_te, predictions)))"
   ]
  },
  {
   "cell_type": "markdown",
   "metadata": {},
   "source": [
    "# Different optimizers"
   ]
  },
  {
   "cell_type": "code",
   "execution_count": 14,
   "metadata": {},
   "outputs": [
    {
     "data": {
      "image/png": "[encoded data removed]",
      "text/plain": [
       "<Figure size 432x288 with 1 Axes>"
      ]
     },
     "metadata": {
      "needs_background": "light"
     },
     "output_type": "display_data"
    }
   ],
   "source": [
    "for optim, title in [(tf.keras.optimizers.Adam(learning_rate=0.00001), 'Adam'), \n",
    "              (tf.keras.optimizers.Ftrl(0.00001, l1_regularization_strength=0.01), 'FTRL')]:\n",
    "    acc = []\n",
    "    model = TFFMClassifier(\n",
    "        order=3, \n",
    "        rank=10, \n",
    "        optimizer=optim,\n",
    "        batch_size=1024,\n",
    "        init_std=0.001,\n",
    "        reg=0.1,\n",
    "        input_type='sparse',\n",
    "    )\n",
    "    n_epochs = 5\n",
    "    anchor_epochs = range(0, 200+1, n_epochs)\n",
    "    for _ in anchor_epochs:\n",
    "        # score result every 5 epochs\n",
    "        model.fit(X_tr_sparse, y_tr, n_epochs=n_epochs)\n",
    "        predictions = model.predict(X_te_sparse)\n",
    "        acc.append(accuracy_score(y_te, predictions))\n",
    "    plot(anchor_epochs, acc, label=title)\n",
    "xlabel('n_epochs')\n",
    "ylabel('accuracy')\n",
    "legend()\n",
    "grid()"
   ]
  },
  {
   "cell_type": "markdown",
   "metadata": {
    "collapsed": true
   },
   "source": [
    "# Different regularization strategies"
   ]
  },
  {
   "cell_type": "code",
   "execution_count": 15,
   "metadata": {},
   "outputs": [
    {
     "name": "stdout",
     "output_type": "stream",
     "text": [
      "Dataset shape: (13454, 784)\n",
      "Non-zeros rate: 0.006028762404322514\n",
      "Classes balance: 0.4692284822357663 / 0.5307715177642337\n"
     ]
    }
   ],
   "source": [
    "X_all = np.vstack([\n",
    "    mnist_images[mnist_labels==3,:],\n",
    "    mnist_images[mnist_labels==5,:]\n",
    "])\n",
    "\n",
    "y_all = np.array([1]*n_three + [0]*n_five)\n",
    "\n",
    "# make it more sparse (sparseness is about 97%)\n",
    "X_all = X_all * (np.random.uniform(0, 1, X_all.shape) > 0.97)\n",
    "\n",
    "print('Dataset shape: {}'.format(X_all.shape))\n",
    "print('Non-zeros rate: {}'.format(np.mean(X_all != 0)))\n",
    "print('Classes balance: {} / {}'.format(np.mean(y_all==0), np.mean(y_all==1)))\n",
    "\n",
    "X_tr, X_te, y_tr, y_te = train_test_split(X_all, y_all, random_state=42, test_size=0.3)\n",
    "X_tr_sparse = sp.csr_matrix(X_tr)\n",
    "X_te_sparse = sp.csr_matrix(X_te)"
   ]
  },
  {
   "cell_type": "code",
   "execution_count": 16,
   "metadata": {
    "scrolled": false
   },
   "outputs": [
    {
     "data": {
      "image/png": "[encoded data removed]",
      "text/plain": [
       "<Figure size 432x288 with 1 Axes>"
      ]
     },
     "metadata": {
      "needs_background": "light"
     },
     "output_type": "display_data"
    }
   ],
   "source": [
    "for use_reweight, title in [(False, 'no reweight reg'), (True, 'reweight reg')]:\n",
    "    acc = []\n",
    "    model = TFFMClassifier(\n",
    "        order=3, \n",
    "        rank=10, \n",
    "        optimizer=tf.keras.optimizers.Adam(learning_rate=0.00001),\n",
    "        batch_size=1024,\n",
    "        init_std=0.001,\n",
    "        reg=1.0,\n",
    "        input_type='sparse',\n",
    "        log_dir='./temp/logs',\n",
    "        reweight_reg = use_reweight\n",
    "    )\n",
    "    n_epochs = 2\n",
    "    anchor_epochs = range(0, 20+1, n_epochs)\n",
    "    for _ in anchor_epochs:\n",
    "        # score result every 5 epochs\n",
    "        model.fit(X_tr_sparse, y_tr, n_epochs=n_epochs)\n",
    "        predictions = model.predict(X_te_sparse)\n",
    "        acc.append(accuracy_score(y_te, predictions))\n",
    "    plot(anchor_epochs, acc, label=title)\n",
    "xlabel('n_epochs')\n",
    "ylabel('accuracy')\n",
    "legend(loc=4)\n",
    "grid()"
   ]
  },
  {
   "cell_type": "markdown",
   "metadata": {
    "collapsed": true
   },
   "source": [
    "# Weighted Loss Function\n",
    "\n",
    "When using `TFFMClassifier`, one can set the parameter `sample_weights` in order to \n",
    "\n",
    "1. Use a \"balanced\" weighting scheme, in which the weight applied to the positive class is $w_+ = n_- / n_+$.\n",
    "2. Prove a custom weight that is applied to every sample from the positive class.\n",
    "2. Prove arbitrary weights to be applied to each sample.\n",
    "\n",
    "We will demonstrate the first two approaches."
   ]
  },
  {
   "cell_type": "code",
   "execution_count": 17,
   "metadata": {},
   "outputs": [
    {
     "name": "stdout",
     "output_type": "stream",
     "text": [
      "Classes balance: 0.668 / 0.332\n",
      "Balanced positive weight is 2.010.\n"
     ]
    }
   ],
   "source": [
    "from sklearn.metrics import confusion_matrix\n",
    "\n",
    "# generate imbalanced data:\n",
    "X_imbalanced = X_all[4000:,:]\n",
    "y_imbalanced = y_all[4000:]\n",
    "\n",
    "print('Classes balance: {:.03f} / {:.03f}'.format(np.mean(y_imbalanced==0), \n",
    "                                                  np.mean(y_imbalanced==1)))\n",
    "\n",
    "print('Balanced positive weight is {:.03f}.'.format(np.mean(y_imbalanced==0)/np.mean(y_imbalanced==1)))\n",
    "\n",
    "X_tr, X_te, y_tr, y_te = train_test_split(X_imbalanced, y_imbalanced, random_state=42, test_size=0.3)"
   ]
  },
  {
   "cell_type": "code",
   "execution_count": 18,
   "metadata": {},
   "outputs": [
    {
     "name": "stderr",
     "output_type": "stream",
     "text": [
      "100%|███████████████████████████████████████████████████████████████████████████████| 50/50 [00:02<00:00, 17.35epoch/s]\n"
     ]
    },
    {
     "name": "stdout",
     "output_type": "stream",
     "text": [
      "accuracy: 0.675713782164258\n"
     ]
    }
   ],
   "source": [
    "# use default weighting\n",
    "model = TFFMClassifier(\n",
    "    order=2,\n",
    "    rank=10, \n",
    "    optimizer=tf.keras.optimizers.Adam(learning_rate=0.00001), \n",
    "    n_epochs=50, \n",
    "    batch_size=1024,\n",
    "    init_std=0.001,\n",
    "    reg=0.01,\n",
    "    input_type='dense',\n",
    "    seed=42\n",
    ")\n",
    "model.fit(X_tr, y_tr, show_progress=True)\n",
    "predictions = model.predict(X_te)\n",
    "print('accuracy: {}'.format(accuracy_score(y_te, predictions)))"
   ]
  },
  {
   "cell_type": "code",
   "execution_count": 19,
   "metadata": {},
   "outputs": [
    {
     "data": {
      "text/plain": [
       "array([[1553,  326],\n",
       "       [ 594,  364]], dtype=int64)"
      ]
     },
     "execution_count": 19,
     "metadata": {},
     "output_type": "execute_result"
    }
   ],
   "source": [
    "confusion_matrix(y_te,predictions)"
   ]
  },
  {
   "cell_type": "markdown",
   "metadata": {},
   "source": [
    "Unweighted loss shows good performance on prevalent class, but poor performance on class with smaller representation"
   ]
  },
  {
   "cell_type": "code",
   "execution_count": 20,
   "metadata": {
    "scrolled": true
   },
   "outputs": [
    {
     "name": "stderr",
     "output_type": "stream",
     "text": [
      "100%|███████████████████████████████████████████████████████████████████████████████| 50/50 [00:02<00:00, 19.54epoch/s]\n"
     ]
    },
    {
     "name": "stdout",
     "output_type": "stream",
     "text": [
      "accuracy: 0.6559746210786042\n"
     ]
    }
   ],
   "source": [
    "# use balanced weighting\n",
    "model = TFFMClassifier(\n",
    "    order=2,\n",
    "    rank=10, \n",
    "    optimizer=tf.keras.optimizers.Adam(learning_rate=0.00001), \n",
    "    n_epochs=50, \n",
    "    batch_size=1024,\n",
    "    init_std=0.001,\n",
    "    reg=0.01,\n",
    "    input_type='dense',\n",
    "    seed=42\n",
    ")\n",
    "model.fit(X_tr, y_tr, show_progress=True, sample_weight='balanced')\n",
    "predictions = model.predict(X_te)\n",
    "print('accuracy: {}'.format(accuracy_score(y_te, predictions)))"
   ]
  },
  {
   "cell_type": "code",
   "execution_count": 21,
   "metadata": {},
   "outputs": [
    {
     "data": {
      "text/plain": [
       "array([[1330,  549],\n",
       "       [ 427,  531]], dtype=int64)"
      ]
     },
     "execution_count": 21,
     "metadata": {},
     "output_type": "execute_result"
    }
   ],
   "source": [
    "confusion_matrix(y_te,predictions)"
   ]
  },
  {
   "cell_type": "markdown",
   "metadata": {},
   "source": [
    "Performance in underrepresented class improved, at the cost of performance in prevalent class."
   ]
  },
  {
   "cell_type": "code",
   "execution_count": 22,
   "metadata": {
    "scrolled": false
   },
   "outputs": [
    {
     "name": "stderr",
     "output_type": "stream",
     "text": [
      "100%|███████████████████████████████████████████████████████████████████████████████| 50/50 [00:02<00:00, 16.82epoch/s]\n"
     ]
    },
    {
     "name": "stdout",
     "output_type": "stream",
     "text": [
      "accuracy: 0.5685583362707085\n"
     ]
    }
   ],
   "source": [
    "# use manully weighting for positive class\n",
    "model = TFFMClassifier(\n",
    "    order=2,\n",
    "    rank=10, \n",
    "    optimizer=tf.keras.optimizers.Adam(learning_rate=0.00001), \n",
    "    n_epochs=50, \n",
    "    batch_size=1024,\n",
    "    init_std=0.001,\n",
    "    reg=0.01,\n",
    "    input_type='dense',\n",
    "    seed=42\n",
    ")\n",
    "model.fit(X_tr, y_tr, show_progress=True,pos_class_weight=6.0)\n",
    "predictions = model.predict(X_te)\n",
    "print('accuracy: {}'.format(accuracy_score(y_te, predictions)))  "
   ]
  },
  {
   "cell_type": "code",
   "execution_count": 23,
   "metadata": {},
   "outputs": [
    {
     "data": {
      "text/plain": [
       "array([[ 790, 1089],\n",
       "       [ 135,  823]], dtype=int64)"
      ]
     },
     "execution_count": 23,
     "metadata": {},
     "output_type": "execute_result"
    }
   ],
   "source": [
    "confusion_matrix(y_te,predictions)"
   ]
  },
  {
   "cell_type": "markdown",
   "metadata": {},
   "source": [
    "Here we've overdone it, but we're quite accurate on the underrepresented class. The limiting case will cause the classifier to put all point into the over-weighted class."
   ]
  }
 ],
 "metadata": {
  "anaconda-cloud": {},
  "kernelspec": {
   "display_name": "Python 3",
   "language": "python",
   "name": "python3"
  },
  "language_info": {
   "codemirror_mode": {
    "name": "ipython",
    "version": 3
   },
   "file_extension": ".py",
   "mimetype": "text/x-python",
   "name": "python",
   "nbconvert_exporter": "python",
   "pygments_lexer": "ipython3",
   "version": "3.6.9"
  }
 },
 "nbformat": 4,
 "nbformat_minor": 1
}
